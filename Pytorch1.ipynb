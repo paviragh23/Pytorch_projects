{
 "cells": [
  {
   "cell_type": "code",
   "execution_count": null,
   "id": "92b05c72",
   "metadata": {},
   "outputs": [],
   "source": [
    "import pandas as pd\n",
    "import os\n",
    "import torch\n",
    "\n",
    "device = (\"cuda\" if torch.cuda.is_available() else \"cpu\")\n",
    "\n",
    "train_df = pd.DataFrame(columns=[\"img_name\",\"label\"])\n",
    "train_df[\"img_name\"] = os.listdir(\"dogs-vs-cats/train/\")\n",
    "for idx, i in enumerate(os.listdir(\"dogs-vs-cats/train/\")):\n",
    "    if \"cat\" in i:\n",
    "        train_df[\"label\"][idx] = 0\n",
    "    if \"dog\" in i:\n",
    "        train_df[\"label\"][idx] = 1\n",
    "\n",
    "train_df.to_csv (r'train_csv.csv', index = False, header=True)"
   ]
  },
  {
   "cell_type": "code",
   "execution_count": null,
   "id": "c1434c3f",
   "metadata": {},
   "outputs": [],
   "source": []
  }
 ],
 "metadata": {
  "kernelspec": {
   "display_name": "Python 3 (ipykernel)",
   "language": "python",
   "name": "python3"
  },
  "language_info": {
   "codemirror_mode": {
    "name": "ipython",
    "version": 3
   },
   "file_extension": ".py",
   "mimetype": "text/x-python",
   "name": "python",
   "nbconvert_exporter": "python",
   "pygments_lexer": "ipython3",
   "version": "3.9.13"
  }
 },
 "nbformat": 4,
 "nbformat_minor": 5
}
